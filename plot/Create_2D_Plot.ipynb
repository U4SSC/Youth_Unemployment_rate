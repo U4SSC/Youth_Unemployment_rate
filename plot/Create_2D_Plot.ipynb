{
 "cells": [
  {
   "cell_type": "code",
   "execution_count": 1,
   "id": "af22a446",
   "metadata": {},
   "outputs": [],
   "source": [
    "import numpy as np\n",
    "import pandas as pd\n",
    "import matplotlib.pyplot as plt\n",
    "import plotly.offline as py\n",
    "import plotly.graph_objs as go\n",
    "import plotly.tools as tls\n",
    "import seaborn as sns\n",
    "import warnings\n",
    "import os\n",
    "import sys\n",
    "import random\n",
    "warnings.filterwarnings('ignore')"
   ]
  },
  {
   "cell_type": "code",
   "execution_count": 2,
   "id": "4dd85437",
   "metadata": {},
   "outputs": [],
   "source": [
    "sys.path.append(os.path.dirname(\"../../link2mysql/\"))\n",
    "sys.path.append('../../')\n",
    "import link2mysql\n",
    "from link2mysql import dbconnect,config"
   ]
  },
  {
   "cell_type": "markdown",
   "id": "51e5a136",
   "metadata": {},
   "source": [
    "## 過濾用不到的Country 資訊"
   ]
  },
  {
   "cell_type": "code",
   "execution_count": 3,
   "id": "b5cfb3d5",
   "metadata": {},
   "outputs": [],
   "source": [
    "non_country_list = ['Arab World', 'Central Europe and the Baltics', 'Caribbean small states', 'East Asia & Pacific (excluding high income)',\n",
    "                    'Early-demographic dividend', 'East Asia & Pacific', 'Europe & Central Asia (excluding high income)',\n",
    "                    'Europe & Central Asia', 'Euro area', 'European Union', 'Fragile and conflict affected situations', 'High income',\n",
    "                    'Heavily indebted poor countries (HIPC)', 'IBRD only', 'IDA & IBRD total', 'IDA total', 'IDA blend', 'IDA only',\n",
    "                    'Latin America & Caribbean (excluding high income)', 'Latin America & Caribbean', 'Least developed countries: UN classification',\n",
    "                    'Low income', 'Lower middle income', 'Low & middle income', 'Late-demographic dividend', 'Middle East & North Africa',\n",
    "                    'Middle income', 'Middle East & North Africa (excluding high income)', 'North America', 'OECD members', 'Other small states',\n",
    "                    'Pre-demographic dividend', 'Post-demographic dividend', 'South Asia', 'Sub-Saharan Africa (excluding high income)',\n",
    "                    'Sub-Saharan Africa', 'Small states', 'East Asia & Pacific (IDA & IBRD countries)',\n",
    "                    'Europe & Central Asia (IDA & IBRD countries)', 'Latin America & the Caribbean (IDA & IBRD countries)',\n",
    "                    'Middle East & North Africa (IDA & IBRD countries)', 'South Asia (IDA & IBRD)',\n",
    "                    'Sub-Saharan Africa (IDA & IBRD countries)', 'Upper middle income', 'World']"
   ]
  },
  {
   "cell_type": "markdown",
   "id": "5904d729",
   "metadata": {},
   "source": [
    "## 讀取data，並過濾"
   ]
  },
  {
   "cell_type": "code",
   "execution_count": 4,
   "id": "7b353f96",
   "metadata": {},
   "outputs": [],
   "source": [
    "# read data\n",
    "df = dbconnect.select_all(\"kpi_1\")\n",
    "# df = pd.read_csv('../data/API_ILO_country_YU.csv')\n",
    "\n",
    "# filter the data by noncountry list\n",
    "df_non_country = df[df['Country Name'].isin(non_country_list)]\n",
    "index = df_non_country.index\n",
    "df_country = df.drop(index)"
   ]
  },
  {
   "cell_type": "code",
   "execution_count": 5,
   "id": "ea260d38",
   "metadata": {},
   "outputs": [
    {
     "data": {
      "text/html": [
       "<div>\n",
       "<style scoped>\n",
       "    .dataframe tbody tr th:only-of-type {\n",
       "        vertical-align: middle;\n",
       "    }\n",
       "\n",
       "    .dataframe tbody tr th {\n",
       "        vertical-align: top;\n",
       "    }\n",
       "\n",
       "    .dataframe thead th {\n",
       "        text-align: right;\n",
       "    }\n",
       "</style>\n",
       "<table border=\"1\" class=\"dataframe\">\n",
       "  <thead>\n",
       "    <tr style=\"text-align: right;\">\n",
       "      <th></th>\n",
       "      <th>Country Name</th>\n",
       "      <th>Country Code</th>\n",
       "      <th>2010</th>\n",
       "      <th>2011</th>\n",
       "      <th>2012</th>\n",
       "      <th>2013</th>\n",
       "      <th>2014</th>\n",
       "    </tr>\n",
       "  </thead>\n",
       "  <tbody>\n",
       "    <tr>\n",
       "      <th>0</th>\n",
       "      <td>Afghanistan</td>\n",
       "      <td>AFG</td>\n",
       "      <td>20.600000</td>\n",
       "      <td>20.900000</td>\n",
       "      <td>19.700001</td>\n",
       "      <td>21.100000</td>\n",
       "      <td>20.799999</td>\n",
       "    </tr>\n",
       "    <tr>\n",
       "      <th>1</th>\n",
       "      <td>Angola</td>\n",
       "      <td>AGO</td>\n",
       "      <td>10.800000</td>\n",
       "      <td>10.700000</td>\n",
       "      <td>10.700000</td>\n",
       "      <td>10.600000</td>\n",
       "      <td>10.500000</td>\n",
       "    </tr>\n",
       "    <tr>\n",
       "      <th>2</th>\n",
       "      <td>Albania</td>\n",
       "      <td>ALB</td>\n",
       "      <td>25.799999</td>\n",
       "      <td>27.000000</td>\n",
       "      <td>28.299999</td>\n",
       "      <td>28.700001</td>\n",
       "      <td>29.200001</td>\n",
       "    </tr>\n",
       "    <tr>\n",
       "      <th>4</th>\n",
       "      <td>United Arab Emirates</td>\n",
       "      <td>ARE</td>\n",
       "      <td>9.800000</td>\n",
       "      <td>9.800000</td>\n",
       "      <td>9.800000</td>\n",
       "      <td>9.900000</td>\n",
       "      <td>10.000000</td>\n",
       "    </tr>\n",
       "    <tr>\n",
       "      <th>5</th>\n",
       "      <td>Argentina</td>\n",
       "      <td>ARG</td>\n",
       "      <td>19.500000</td>\n",
       "      <td>18.799999</td>\n",
       "      <td>18.400000</td>\n",
       "      <td>19.700001</td>\n",
       "      <td>21.299999</td>\n",
       "    </tr>\n",
       "  </tbody>\n",
       "</table>\n",
       "</div>"
      ],
      "text/plain": [
       "           Country Name Country Code       2010       2011       2012  \\\n",
       "0           Afghanistan          AFG  20.600000  20.900000  19.700001   \n",
       "1                Angola          AGO  10.800000  10.700000  10.700000   \n",
       "2               Albania          ALB  25.799999  27.000000  28.299999   \n",
       "4  United Arab Emirates          ARE   9.800000   9.800000   9.800000   \n",
       "5             Argentina          ARG  19.500000  18.799999  18.400000   \n",
       "\n",
       "        2013       2014  \n",
       "0  21.100000  20.799999  \n",
       "1  10.600000  10.500000  \n",
       "2  28.700001  29.200001  \n",
       "4   9.900000  10.000000  \n",
       "5  19.700001  21.299999  "
      ]
     },
     "execution_count": 5,
     "metadata": {},
     "output_type": "execute_result"
    }
   ],
   "source": [
    "df_country.head(5)"
   ]
  },
  {
   "cell_type": "code",
   "execution_count": 6,
   "id": "3385d840",
   "metadata": {},
   "outputs": [],
   "source": [
    "country_list = df_country[\"Country Name\"]"
   ]
  },
  {
   "cell_type": "code",
   "execution_count": 7,
   "id": "fa191e74",
   "metadata": {},
   "outputs": [],
   "source": [
    "year_list = ['2010', '2011', '2012', '2013', '2014']\n",
    "unemployment_rate = []"
   ]
  },
  {
   "cell_type": "code",
   "execution_count": 8,
   "id": "a83ebc1b",
   "metadata": {},
   "outputs": [],
   "source": [
    "country_data = {}\n",
    "for country in country_list:\n",
    "    unemployment_rate = []\n",
    "    for year in year_list:\n",
    "        unemployment_rate.append(float(df_country[df_country[\"Country Name\"] == country][year]))\n",
    "    country_data[country] = {}\n",
    "    data_plot = pd.DataFrame({\"Year\":year_list, \"Unemployment Rate\":unemployment_rate})\n",
    "    country_data[country][\"plot\"] = pd.DataFrame({\"Year\":year_list, \"Unemployment Rate\":unemployment_rate})"
   ]
  },
  {
   "cell_type": "code",
   "execution_count": 9,
   "id": "dac24b60",
   "metadata": {},
   "outputs": [],
   "source": [
    "selected_countries = country_list[:10]"
   ]
  },
  {
   "cell_type": "code",
   "execution_count": 10,
   "id": "fd6a7610",
   "metadata": {},
   "outputs": [
    {
     "data": {
      "image/png": "[encoded data removed]",
      "text/plain": [
       "<Figure size 432x288 with 1 Axes>"
      ]
     },
     "metadata": {},
     "output_type": "display_data"
    }
   ],
   "source": [
    "sns.set()\n",
    "for country in selected_countries:\n",
    "    sns.lineplot(data=country_data[country][\"plot\"],\n",
    "                 x=\"Year\", y=\"Unemployment Rate\",\n",
    "                 label=country)\n",
    "    \n",
    "plt.legend(loc='upper left')\n",
    "plt.savefig(\"Test.png\")"
   ]
  }
 ],
 "metadata": {
  "kernelspec": {
   "display_name": "Python 3 (ipykernel)",
   "language": "python",
   "name": "python3"
  },
  "language_info": {
   "codemirror_mode": {
    "name": "ipython",
    "version": 3
   },
   "file_extension": ".py",
   "mimetype": "text/x-python",
   "name": "python",
   "nbconvert_exporter": "python",
   "pygments_lexer": "ipython3",
   "version": "3.9.6"
  }
 },
 "nbformat": 4,
 "nbformat_minor": 5
}
